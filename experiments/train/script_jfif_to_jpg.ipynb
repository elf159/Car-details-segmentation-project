{
 "cells": [
  {
   "cell_type": "code",
   "execution_count": 1,
   "id": "363ee273",
   "metadata": {},
   "outputs": [],
   "source": [
    "import profile\n",
    "from PIL import Image\n",
    "import glob, os\n",
    "\n",
    "ROOT = r\"yolo-train/validation/images\"\n",
    "\n",
    "for jfif in glob.glob(os.path.join(ROOT, \"**\", \"*.jfif\"), recursive=True):\n",
    "    img = Image.open(jfif)\n",
    "    dst = os.path.splitext(jfif)[0] + \".jpg\"\n",
    "    img.save(dst, \"JPEG\", quality=95)   # перекодирование\n",
    "    os.remove(jfif)\n"
   ]
  }
 ],
 "metadata": {
  "kernelspec": {
   "display_name": "Python 3",
   "language": "python",
   "name": "python3"
  },
  "language_info": {
   "codemirror_mode": {
    "name": "ipython",
    "version": 3
   },
   "file_extension": ".py",
   "mimetype": "text/x-python",
   "name": "python",
   "nbconvert_exporter": "python",
   "pygments_lexer": "ipython3",
   "version": "3.11.3"
  }
 },
 "nbformat": 4,
 "nbformat_minor": 5
}
