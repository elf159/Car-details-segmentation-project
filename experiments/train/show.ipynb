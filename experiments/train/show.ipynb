{
 "cells": [
  {
   "cell_type": "code",
   "execution_count": 8,
   "id": "00c50756",
   "metadata": {},
   "outputs": [
    {
     "name": "stdout",
     "output_type": "stream",
     "text": [
      "\n",
      "image 1/1 c:\\useful\\DIPLOMA\\Project\\experiments\\train\\hyn.jpg: 480x640 1 02 Krupnie detali. dver zadnyaya levaya, 1 05 Krupnie detali. dver perednyaya pravaya, 1 06 Krupnie detali. kapot, 2 07 Krupnie detali. kolesos, 1 11 Krupnie detali. krylo perednee pravoe, 1 12 Krupnie detali. krysha, 1 16 Melkie detali. antenna, 2 24 Melkie detali. moldingt stekla zadney dveri levyy naruzhnyys, 1 29 Melkie detali. povtoritel, 2 35 Melkie detali. ruchka dveris, 1 41 Srednie detali. bokovoe zerkalo pravoye, 2 46 Srednie detali. disk kolesas, 1 50 Srednie detali. moldingt zerkala pravyy, 1 52 Srednie detali. nakladka na porog pravyy, 1 53 Srednie detali. nakladka tsentralnoy stoyki levaya naruzhnaya, 63.4ms\n",
      "Speed: 3.8ms preprocess, 63.4ms inference, 5.1ms postprocess per image at shape (1, 3, 480, 640)\n"
     ]
    },
    {
     "ename": "TypeError",
     "evalue": "Results.plot() got an unexpected keyword argument 'conf_thres'",
     "output_type": "error",
     "traceback": [
      "\u001b[31m---------------------------------------------------------------------------\u001b[39m",
      "\u001b[31mTypeError\u001b[39m                                 Traceback (most recent call last)",
      "\u001b[36mCell\u001b[39m\u001b[36m \u001b[39m\u001b[32mIn[8]\u001b[39m\u001b[32m, line 16\u001b[39m\n\u001b[32m     13\u001b[39m results = model.predict(img_path)\n\u001b[32m     15\u001b[39m \u001b[38;5;66;03m# Отображение результатов для первого изображения из результатов\u001b[39;00m\n\u001b[32m---> \u001b[39m\u001b[32m16\u001b[39m \u001b[43mresults\u001b[49m\u001b[43m[\u001b[49m\u001b[32;43m0\u001b[39;49m\u001b[43m]\u001b[49m\u001b[43m.\u001b[49m\u001b[43mplot\u001b[49m\u001b[43m(\u001b[49m\n\u001b[32m     17\u001b[39m \u001b[43m    \u001b[49m\u001b[43mconf\u001b[49m\u001b[43m=\u001b[49m\u001b[32;43m0.4\u001b[39;49m\u001b[43m,\u001b[49m\u001b[43m  \u001b[49m\u001b[38;5;66;43;03m# Порог уверенности\u001b[39;49;00m\n\u001b[32m     18\u001b[39m \u001b[43m    \u001b[49m\u001b[43mline_width\u001b[49m\u001b[43m=\u001b[49m\u001b[32;43m1\u001b[39;49m\u001b[43m,\u001b[49m\u001b[43m  \u001b[49m\u001b[38;5;66;43;03m# Толщина линии для боксов\u001b[39;49;00m\n\u001b[32m     19\u001b[39m \u001b[43m    \u001b[49m\u001b[43mfont_size\u001b[49m\u001b[43m=\u001b[49m\u001b[32;43m8\u001b[39;49m\u001b[43m,\u001b[49m\u001b[43m  \u001b[49m\u001b[38;5;66;43;03m# Размер шрифта для меток\u001b[39;49;00m\n\u001b[32m     20\u001b[39m \u001b[43m    \u001b[49m\u001b[43mlabels\u001b[49m\u001b[43m=\u001b[49m\u001b[38;5;28;43;01mTrue\u001b[39;49;00m\u001b[43m,\u001b[49m\u001b[43m  \u001b[49m\u001b[38;5;66;43;03m# Показывать метки классов\u001b[39;49;00m\n\u001b[32m     21\u001b[39m \u001b[43m    \u001b[49m\u001b[43mconf_thres\u001b[49m\u001b[43m=\u001b[49m\u001b[32;43m0.4\u001b[39;49m\u001b[43m  \u001b[49m\u001b[38;5;66;43;03m# Порог уверенности\u001b[39;49;00m\n\u001b[32m     22\u001b[39m \u001b[43m)\u001b[49m\n\u001b[32m     24\u001b[39m \u001b[38;5;66;03m# Сохранение результата\u001b[39;00m\n\u001b[32m     25\u001b[39m save_path = \u001b[33m\"\u001b[39m\u001b[33mprediction.jpg\u001b[39m\u001b[33m\"\u001b[39m  \u001b[38;5;66;03m# Укажите путь для сохранения\u001b[39;00m\n",
      "\u001b[31mTypeError\u001b[39m: Results.plot() got an unexpected keyword argument 'conf_thres'"
     ]
    }
   ],
   "source": [
    "from ultralytics import YOLO\n",
    "import os\n",
    "from PIL import Image\n",
    "import matplotlib.pyplot as plt\n",
    "\n",
    "# Загрузка модели\n",
    "model = YOLO(\"best_hyn.pt\")\n",
    "\n",
    "# Путь к изображению\n",
    "img_path = \"hyn.jpg\"\n",
    "\n",
    "# Предсказание\n",
    "results = model.predict(img_path)\n",
    "\n",
    "# Отображение результатов для первого изображения из результатов\n",
    "results[0].plot(\n",
    "    conf=0.4,  # Порог уверенности\n",
    "    line_width=1,  # Толщина линии для боксов\n",
    "    font_size=8,  # Размер шрифта для меток\n",
    "    labels=True,  # Показывать метки классов\n",
    "    conf_thres=0.4  # Порог уверенности\n",
    ")\n",
    "\n",
    "# Сохранение результата\n",
    "save_path = \"prediction.jpg\"  # Укажите путь для сохранения\n",
    "results[0].save(save_dir=save_path)  # Сохранение результата\n",
    "\n"
   ]
  }
 ],
 "metadata": {
  "kernelspec": {
   "display_name": "Python 3",
   "language": "python",
   "name": "python3"
  },
  "language_info": {
   "codemirror_mode": {
    "name": "ipython",
    "version": 3
   },
   "file_extension": ".py",
   "mimetype": "text/x-python",
   "name": "python",
   "nbconvert_exporter": "python",
   "pygments_lexer": "ipython3",
   "version": "3.11.3"
  }
 },
 "nbformat": 4,
 "nbformat_minor": 5
}
