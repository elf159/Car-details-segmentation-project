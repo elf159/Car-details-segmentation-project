{
 "cells": [
  {
   "cell_type": "code",
   "execution_count": 6,
   "id": "138856eb",
   "metadata": {},
   "outputs": [
    {
     "name": "stdout",
     "output_type": "stream",
     "text": [
      "Найдено 30 подозрительных файлов\n",
      "test/labels\\102.txt  строка 54:   0.748822 0.614462 0.752120 0.614242 0.755749 0.613142 0.762\n",
      "test/labels\\105.txt  строка 17:   0.921208 0.801425 0.900726 0.838717 0.915439 0.837119 0.929\n",
      "test/labels\\109.txt  строка 57:   0.721481 0.643333 0.722963 0.647778 0.733290 0.666822 0.731\n",
      "test/labels\\116.txt  строка 26:   0.041060 0.653101 0.041257 0.633987 0.042239 0.631761 0.044\n",
      "test/labels\\119.txt  строка 48:   0.668689 0.222795 0.678324 0.235166 0.677233 0.243414 0.680\n",
      "test/labels\\124.txt  строка 39:   0.664773 0.408850 0.667625 0.415255 0.667025 0.420059 0.664\n",
      "test/labels\\125.txt  строка 41:   0.486270 0.419846 0.557691 0.422567 0.560140 0.427192 0.551\n",
      "test/labels\\127.txt  строка 51:   0.729860 0.429766 0.738215 0.435937 0.757068 0.452194 0.760\n",
      "test/labels\\130.txt  строка 47:   0.417542 0.311964 0.410970 0.317691 0.404533 0.320554 0.400\n",
      "test/labels\\131.txt  строка 48:   0.680697 0.369249 0.696513 0.393055 0.701258 0.390042 0.705\n"
     ]
    }
   ],
   "source": [
    "import glob, os\n",
    "\n",
    "lbl_dir = \"test/labels\" \n",
    "bad = []\n",
    "for p in glob.glob(os.path.join(lbl_dir, \"*.txt\")):\n",
    "    with open(p) as f:\n",
    "        for n, line in enumerate(f, 1):\n",
    "            first = line.strip().split()[0] if line.strip() else \"\"\n",
    "            if not first.isdigit():          \n",
    "                bad.append((p, n, line[:60]))\n",
    "                break\n",
    "\n",
    "print(f\"Найдено {len(bad)} подозрительных файлов\")\n",
    "for path, ln, preview in bad[:10]:\n",
    "    print(f\"{path}  строка {ln}:  {preview}\")\n"
   ]
  },
  {
   "cell_type": "code",
   "execution_count": 4,
   "id": "d64f1b47",
   "metadata": {},
   "outputs": [
    {
     "name": "stdout",
     "output_type": "stream",
     "text": [
      "\n",
      " Удалено 0 битых пар label+image\n"
     ]
    }
   ],
   "source": [
    "import os, glob, shutil\n",
    "\n",
    "ROOT = r\"C:/useful/DIPLOMA/Project/experiments/train/yolo-train\"  \n",
    "IMG_EXTS = (\".jpg\", \".jpeg\", \".png\", \".jfif\", \".bmp\", \".webp\")    \n",
    "DRY_RUN = False  \n",
    "\n",
    "def is_bad_line(parts: list[str]) -> bool:\n",
    "    \"\"\"Возвращает True, если строка битая.\"\"\"\n",
    "    return len(parts) < 3 or (len(parts) - 1) % 2   \n",
    "\n",
    "def collect_bad(txt_path: str) -> bool:\n",
    "    for line in open(txt_path):\n",
    "        if is_bad_line(line.strip().split()):\n",
    "            return True\n",
    "    return False\n",
    "\n",
    "def delete_pair(txt_path: str):\n",
    "    base = os.path.splitext(os.path.basename(txt_path))[0]\n",
    "    img_dir = os.path.dirname(txt_path).replace(\"labels\", \"images\")\n",
    "    img_path = next((os.path.join(img_dir, base + ext) for ext in IMG_EXTS\n",
    "                     if os.path.exists(os.path.join(img_dir, base + ext))), None)\n",
    "\n",
    "    if DRY_RUN:\n",
    "        print(\" [DRY] del\", txt_path)\n",
    "        if img_path: print(\" [DRY] del\", img_path)\n",
    "    else:\n",
    "        os.remove(txt_path)\n",
    "        if img_path:\n",
    "            os.remove(img_path)\n",
    "\n",
    "def main():\n",
    "    label_dirs = glob.glob(os.path.join(ROOT, \"**\", \"labels\"), recursive=True)\n",
    "    total_bad = 0\n",
    "    for lbl_dir in label_dirs:\n",
    "        for txt in glob.glob(os.path.join(lbl_dir, \"*.txt\")):\n",
    "            if collect_bad(txt):\n",
    "                delete_pair(txt)\n",
    "                total_bad += 1\n",
    "    print(f\"\\n Удалено {total_bad} битых пар label+image\")\n",
    "\n",
    "if __name__ == \"__main__\":\n",
    "    main()"
   ]
  },
  {
   "cell_type": "code",
   "execution_count": 1,
   "id": "c074ea40",
   "metadata": {},
   "outputs": [
    {
     "name": "stdout",
     "output_type": "stream",
     "text": [
      "Найдено битых изображений: 0\n"
     ]
    }
   ],
   "source": [
    "import glob, cv2, os\n",
    "\n",
    "ROOT = r\"C:\\useful\\DIPLOMA\\Project\\experiments\\train\\yolo-train\"\n",
    "IMG_EXTS = (\".jpg\", \".jpeg\", \".png\", \".jfif\", \".bmp\", \".webp\")\n",
    "\n",
    "bad = []\n",
    "for ext in IMG_EXTS:\n",
    "    for p in glob.glob(os.path.join(ROOT, \"**\", \"images\", f\"*{ext}\"), recursive=True):\n",
    "        img = cv2.imread(p)\n",
    "        if img is None or img.size == 0:\n",
    "            bad.append(p)\n",
    "\n",
    "print(f\"Найдено битых изображений: {len(bad)}\")\n",
    "for b in bad[:20]:\n",
    "    print(\" \", b)\n",
    "    # при необходимости удаляем\n",
    "    # os.remove(b)\n",
    "    # os.remove(b.replace(\"images\", \"labels\").rsplit('.',1)[0]+'.txt')\n"
   ]
  }
 ],
 "metadata": {
  "kernelspec": {
   "display_name": "Python 3",
   "language": "python",
   "name": "python3"
  },
  "language_info": {
   "codemirror_mode": {
    "name": "ipython",
    "version": 3
   },
   "file_extension": ".py",
   "mimetype": "text/x-python",
   "name": "python",
   "nbconvert_exporter": "python",
   "pygments_lexer": "ipython3",
   "version": "3.11.3"
  }
 },
 "nbformat": 4,
 "nbformat_minor": 5
}
